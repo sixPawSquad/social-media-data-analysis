{
  "cells": [
    {
      "cell_type": "markdown",
      "metadata": {},
      "source": [
        "# Social Media Data Analysis Project\n",
        "\n",
        "## Overview\n",
        "This project simulates analysis of tweet engagement across categories (Food, Family, Health) to derive insights for marketing strategy. It uses Python, Pandas, Matplotlib, and Seaborn.\n",
        "\n",
        "## Key Skills Demonstrated\n",
        "- Data Cleaning and Summary Statistics\n",
        "- Data Visualization and Trend Analysis\n",
        "- Business Insight Generation\n",
        "- Python for Real-World Marketing Data\n",
        "\n",
        "## Insights\n",
        "- Family content yields the most engagement.\n",
        "- Food tweets are frequent but less effective.\n",
        "- Trend visualization helps identify peak posting periods.\n",
        "\n",
        "## Tools Used\n",
        "Python, Jupyter Notebook, Pandas, Matplotlib, Seaborn\n",
        "\n",
        "---\n",
        "\n",
        "## Contact\n",
        "Sara Dawson  \n",
        "[GitHub](https://github.com/sixPawSquad) | [LinkedIn](https://www.linkedin.com/in/sara-dawson2/) | sixpawsquad@gmail.com"
      ]
    },
    {
      "cell_type": "code",
      "execution_count": 1,
      "metadata": {},
      "outputs": [],
      "source": [
        "# Import libraries\n",
        "import pandas as pd\n",
        "import numpy as np\n",
        "import matplotlib.pyplot as plt\n",
        "import seaborn as sns\n",
        "from wordcloud import WordCloud\n",
        "\n",
        "# Set default plot style\n",
        "sns.set(style=\"whitegrid\")\n",
        "\n",
        "# Simulate dataset\n",
        "data = {\n",
        "    'tweet_id': range(1, 11),\n",
        "    'text': [\n",
        "        \"Eating healthy food boosts energy!\",\n",
        "        \"Love spending time with family \u2764\ufe0f\",\n",
        "        \"Workout done for today \ud83d\udcaa\",\n",
        "        \"Family picnic at the park \ud83c\udf33\",\n",
        "        \"New recipe dropped: Avocado toast \ud83e\udd51\",\n",
        "        \"Health tips for a better life\",\n",
        "        \"Trying out Mediterranean diet\",\n",
        "        \"Mom and dad are visiting this weekend!\",\n",
        "        \"Late-night food cravings \ud83c\udf55\",\n",
        "        \"Fitness is not a destination, it's a journey\"\n",
        "    ],\n",
        "    'category': ['Food', 'Family', 'Health', 'Family', 'Food', 'Health', 'Food', 'Family', 'Food', 'Health'],\n",
        "    'likes': [120, 250, 180, 230, 145, 190, 160, 220, 130, 200]\n",
        "}\n",
        "\n",
        "df = pd.DataFrame(data)\n",
        "\n",
        "# Preview\n",
        "df.head()"
      ]
    },
    {
      "cell_type": "code",
      "execution_count": 2,
      "metadata": {},
      "outputs": [
        {
          "name": "stdout",
          "output_type": "stream",
          "text": [
            "Dataset shape: (10, 4)\n",
            "\n",
            "Missing values:\n",
            " tweet_id    0\n",
            "text        0\n",
            "category    0\n",
            "likes       0\n",
            "dtype: int64\n",
            "\n",
            "Summary statistics:\n",
            "\n",
            "       tweet_id       likes\n",
            "count  10.00000   10.000000\n",
            "mean    5.50000  182.500000\n",
            "std     3.02765   43.668575\n",
            "min     1.00000  120.000000\n",
            "25%     3.25000  148.750000\n",
            "50%     5.50000  185.000000\n",
            "75%     7.75000  215.000000\n",
            "max    10.00000  250.000000\n",
            "\n",
            "Tweet categories:\n",
            " Food      4\n",
            "Family    3\n",
            "Health    3\n",
            "Name: category, dtype: int64\n"
          ]
        }
      ],
      "source": [
        "# Data checks\n",
        "print(\"Dataset shape:\", df.shape)\n",
        "\n",
        "# Check for missing\n",
        "print(\"\\nMissing values:\\n\", df.isnull().sum())\n",
        "\n",
        "# Summary stats\n",
        "print(\"\\nSummary statistics:\\n\")\n",
        "print(df.describe())\n",
        "\n",
        "# Categories distribution\n",
        "print(\"\\nTweet categories:\\n\", df['category'].value_counts())"
      ]
    },
    {
      "cell_type": "code",
      "execution_count": 3,
      "metadata": {},
      "outputs": [
        {
          "name": "stdout",
          "output_type": "stream",
          "text": [
            "Duplicate tweet IDs: 0\n",
            "\n",
            "Missing values after cleaning:\n",
            " tweet_id    0\n",
            "text        0\n",
            "category    0\n",
            "likes       0\n",
            "dtype: int64\n",
            "\n",
            "Unique categories:\n",
            " ['Food' 'Family' 'Health']\n"
          ]
        }
      ],
      "source": [
        "# Cleaning\n",
        "duplicates = df.duplicated(subset='tweet_id').sum()\n",
        "print(f\"Duplicate tweet IDs: {duplicates}\")\n",
        "\n",
        "df = df.drop_duplicates()\n",
        "\n",
        "print(\"\\nMissing values after cleaning:\\n\", df.isnull().sum())\n",
        "\n",
        "df['category'] = df['category'].str.strip().str.title()\n",
        "\n",
        "print(\"\\nUnique categories:\\n\", df['category'].unique())"
      ]
    },
    {
      "cell_type": "code",
      "execution_count": 4,
      "metadata": {},
      "outputs": [],
      "source": [
        "# Plotting with polish\n",
        "plt.figure(figsize=(8, 6))\n",
        "sns.barplot(x='category', y='likes', data=df, estimator=np.mean, ci=None, palette='viridis')\n",
        "plt.title('Average Likes by Tweet Category')\n",
        "plt.xlabel('Category')\n",
        "plt.ylabel('Average Likes')\n",
        "plt.xticks(rotation=15)\n",
        "plt.tight_layout()\n",
        "plt.show()\n",
        "\n",
        "plt.figure(figsize=(8, 6))\n",
        "sns.boxplot(x='category', y='likes', data=df, palette='pastel')\n",
        "plt.title('Distribution of Likes by Category')\n",
        "plt.xlabel('Category')\n",
        "plt.ylabel('Likes')\n",
        "plt.xticks(rotation=15)\n",
        "plt.tight_layout()\n",
        "plt.show()\n",
        "\n",
        "plt.figure(figsize=(8, 6))\n",
        "sns.countplot(x='category', data=df, palette='muted')\n",
        "plt.title('Number of Tweets by Category')\n",
        "plt.xlabel('Category')\n",
        "plt.ylabel('Tweet Count')\n",
        "plt.xticks(rotation=15)\n",
        "plt.tight_layout()\n",
        "plt.show()"
      ]
    },
    {
      "cell_type": "code",
      "execution_count": 5,
      "metadata": {},
      "outputs": [],
      "source": [
        "# Generate word cloud\n",
        "text = \" \".join(tweet for tweet in df['text'])\n",
        "wordcloud = WordCloud(width=800, height=400, background_color='white').generate(text)\n",
        "\n",
        "plt.figure(figsize=(10, 5))\n",
        "plt.imshow(wordcloud, interpolation='bilinear')\n",
        "plt.axis('off')\n",
        "plt.title('Word Cloud of Tweet Text')\n",
        "plt.tight_layout()\n",
        "plt.show()"
      ]
    },
    {
      "cell_type": "code",
      "execution_count": 6,
      "metadata": {},
      "outputs": [
        {
          "name": "stdout",
          "output_type": "stream",
          "text": [
            "Average Likes per Hashtag:\n",
            "hashtags\n",
            "#familytime       250.0\n",
            "#love             250.0\n",
            "#picnic           230.0\n",
            "#family           225.0\n",
            "#weekend          220.0\n",
            "#journey          200.0\n",
            "#healthtips       190.0\n",
            "#wellness         190.0\n",
            "#fitness          190.0\n",
            "#workout          180.0\n",
            "#mediterranean    160.0\n",
            "#diet             160.0\n",
            "#foodie           145.0\n",
            "#avocado          145.0\n",
            "#foodcravings     130.0\n",
            "#pizza            130.0\n",
            "#healthy          120.0\n",
            "#energy           120.0\n",
            "Name: likes, dtype: float64\n"
          ]
        }
      ],
      "source": [
        "# Hashtag simulation\n",
        "hashtags = [\n",
        "    ['#healthy', '#energy'],\n",
        "    ['#familytime', '#love'],\n",
        "    ['#workout', '#fitness'],\n",
        "    ['#family', '#picnic'],\n",
        "    ['#foodie', '#avocado'],\n",
        "    ['#healthtips', '#wellness'],\n",
        "    ['#mediterranean', '#diet'],\n",
        "    ['#family', '#weekend'],\n",
        "    ['#foodcravings', '#pizza'],\n",
        "    ['#fitness', '#journey']\n",
        "]\n",
        "df['hashtags'] = hashtags\n",
        "\n",
        "# Expand for analysis\n",
        "df_exp = df.explode('hashtags')\n",
        "\n",
        "# Calculate avg likes\n",
        "hashtag_performance = df_exp.groupby('hashtags')['likes'].mean().sort_values(ascending=False)\n",
        "print(\"Average Likes per Hashtag:\")\n",
        "print(hashtag_performance)"
      ]
    },
    {
      "cell_type": "code",
      "execution_count": 7,
      "metadata": {},
      "outputs": [],
      "source": [
        "# Plot Hashtag performance\n",
        "plt.figure(figsize=(10, 6))\n",
        "sns.barplot(x=hashtag_performance.values, y=hashtag_performance.index, palette='viridis')\n",
        "plt.title('Average Likes per Hashtag')\n",
        "plt.xlabel('Average Likes')\n",
        "plt.ylabel('Hashtag')\n",
        "plt.tight_layout()\n",
        "plt.show()"
      ]
    },
    {
      "cell_type": "markdown",
      "metadata": {},
      "source": [
        "### \ud83d\udccc Insights from Text & Hashtag Analysis\n",
        "The additional analysis of tweet text and hashtags reveals meaningful patterns in user engagement:\n",
        "\n",
        "- **Word Cloud**: Common terms such as *\"family,\" \"fitness,\"* and *\"food\"* appear frequently, confirming these are central themes in the dataset. This aligns with the category labels and helps reinforce the marketing focus for each group.\n",
        "- **Hashtag Performance**: Simulated hashtags show that engagement tends to be higher with hashtags like `#familytime`, `#love`, and `#fitness`. These terms may carry emotional or motivational appeal, making them more effective for attracting likes.\n",
        "\n",
        "By combining text mining and hashtag analysis with category-based metrics, we develop a deeper understanding of what drives interaction\u2014insights that can guide more impactful content strategies.\n",
        "\n",
        "### \u2705 Final Insights & Recommendations\n",
        "\n",
        "#### Key Findings:\n",
        "- **Family-related content** consistently earns the most likes, indicating strong emotional engagement.\n",
        "- **Food tweets** are the most frequent but have moderate performance in terms of likes\u2014suggesting room for optimization in how this content is framed.\n",
        "- **Health-related posts** perform well, especially those tied to fitness and wellness tips.\n",
        "\n",
        "#### Text & Hashtag Insights:\n",
        "- The **Word Cloud** confirms frequent themes like *\"food,\" \"family,\"* and *\"fitness\"*.\n",
        "- **Hashtags** such as `#familytime`, `#love`, and `#fitness` outperform others, highlighting the value of emotionally resonant and motivational tags.\n",
        "\n",
        "#### Recommendations:\n",
        "- \ud83d\udd01 **Double down on family-centric content**, especially during weekends or holidays.\n",
        "- \ud83c\udff7\ufe0f **Use targeted hashtags** that align with emotional, health, and lifestyle themes to increase engagement.\n",
        "- \ud83d\udcca **Consider A/B testing** different food content styles or formats (recipes vs. cravings vs. nutritional tips) to improve performance in that category."
      ]
    },
    {
      "cell_type": "code",
      "execution_count": 8,
      "metadata": {},
      "outputs": [],
      "source": [
        "# Save final dataframe\n",
        "df.to_csv(\"final_social_media_analysis.csv\", index=False)\n"
      ]
    }
  ],
  "metadata": {
    "kernelspec": {
      "display_name": "Python 3",
      "language": "python",
      "name": "python3"
    },
    "language_info": {
      "codemirror_mode": {
        "name": "ipython",
        "version": 3
      },
      "file_extension": ".py",
      "mimetype": "text/x-python",
      "name": "python",
      "nbconvert_exporter": "python",
      "pygments_lexer": "ipython3",
      "version": "3.10.12"
    }
  },
  "nbformat": 4,
  "nbformat_minor": 5
}